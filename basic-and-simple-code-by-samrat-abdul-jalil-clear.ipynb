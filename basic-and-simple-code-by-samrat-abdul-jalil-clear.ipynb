{
 "cells": [
  {
   "cell_type": "code",
   "execution_count": 1,
   "id": "8281923b",
   "metadata": {
    "_cell_guid": "b1076dfc-b9ad-4769-8c92-a6c4dae69d19",
    "_uuid": "8f2839f25d086af736a60e9eeb907d3b93b6e0e5",
    "execution": {
     "iopub.execute_input": "2022-06-28T18:09:58.404990Z",
     "iopub.status.busy": "2022-06-28T18:09:58.404056Z",
     "iopub.status.idle": "2022-06-28T18:09:58.423054Z",
     "shell.execute_reply": "2022-06-28T18:09:58.421768Z"
    },
    "papermill": {
     "duration": 0.029208,
     "end_time": "2022-06-28T18:09:58.425609",
     "exception": false,
     "start_time": "2022-06-28T18:09:58.396401",
     "status": "completed"
    },
    "tags": []
   },
   "outputs": [
    {
     "name": "stdout",
     "output_type": "stream",
     "text": [
      "/kaggle/input/nlp-getting-started/sample_submission.csv\n",
      "/kaggle/input/nlp-getting-started/train.csv\n",
      "/kaggle/input/nlp-getting-started/test.csv\n"
     ]
    }
   ],
   "source": [
    "# This Python 3 environment comes with many helpful analytics libraries installed\n",
    "# It is defined by the kaggle/python Docker image: https://github.com/kaggle/docker-python\n",
    "# For example, here's several helpful packages to load\n",
    "\n",
    "import numpy as np # linear algebra\n",
    "import pandas as pd # data processing, CSV file I/O (e.g. pd.read_csv)\n",
    "\n",
    "# Input data files are available in the read-only \"../input/\" directory\n",
    "# For example, running this (by clicking run or pressing Shift+Enter) will list all files under the input directory\n",
    "\n",
    "import os\n",
    "for dirname, _, filenames in os.walk('/kaggle/input'):\n",
    "    for filename in filenames:\n",
    "        print(os.path.join(dirname, filename))\n",
    "\n",
    "# You can write up to 20GB to the current directory (/kaggle/working/) that gets preserved as output when you create a version using \"Save & Run All\" \n",
    "# You can also write temporary files to /kaggle/temp/, but they won't be saved outside of the current session"
   ]
  },
  {
   "cell_type": "markdown",
   "id": "067f5cb5",
   "metadata": {
    "papermill": {
     "duration": 0.004499,
     "end_time": "2022-06-28T18:09:58.435205",
     "exception": false,
     "start_time": "2022-06-28T18:09:58.430706",
     "status": "completed"
    },
    "tags": []
   },
   "source": [
    "I think My note book will help the beginner .\n",
    "At 1st export train and test file using pandas"
   ]
  },
  {
   "cell_type": "code",
   "execution_count": 2,
   "id": "f9fd2157",
   "metadata": {
    "execution": {
     "iopub.execute_input": "2022-06-28T18:09:58.446631Z",
     "iopub.status.busy": "2022-06-28T18:09:58.446212Z",
     "iopub.status.idle": "2022-06-28T18:09:58.517018Z",
     "shell.execute_reply": "2022-06-28T18:09:58.516063Z"
    },
    "papermill": {
     "duration": 0.079602,
     "end_time": "2022-06-28T18:09:58.519688",
     "exception": false,
     "start_time": "2022-06-28T18:09:58.440086",
     "status": "completed"
    },
    "tags": []
   },
   "outputs": [],
   "source": [
    "train=pd.read_csv('../input/nlp-getting-started/train.csv')  \n",
    "test=pd.read_csv('../input/nlp-getting-started/test.csv') "
   ]
  },
  {
   "cell_type": "markdown",
   "id": "e7c7fb6d",
   "metadata": {
    "papermill": {
     "duration": 0.004495,
     "end_time": "2022-06-28T18:09:58.529243",
     "exception": false,
     "start_time": "2022-06-28T18:09:58.524748",
     "status": "completed"
    },
    "tags": []
   },
   "source": [
    "then I am just check the train file..\n"
   ]
  },
  {
   "cell_type": "code",
   "execution_count": 3,
   "id": "d63f9157",
   "metadata": {
    "execution": {
     "iopub.execute_input": "2022-06-28T18:09:58.540648Z",
     "iopub.status.busy": "2022-06-28T18:09:58.539913Z",
     "iopub.status.idle": "2022-06-28T18:09:58.561719Z",
     "shell.execute_reply": "2022-06-28T18:09:58.560548Z"
    },
    "papermill": {
     "duration": 0.030439,
     "end_time": "2022-06-28T18:09:58.564331",
     "exception": false,
     "start_time": "2022-06-28T18:09:58.533892",
     "status": "completed"
    },
    "tags": []
   },
   "outputs": [
    {
     "data": {
      "text/html": [
       "<div>\n",
       "<style scoped>\n",
       "    .dataframe tbody tr th:only-of-type {\n",
       "        vertical-align: middle;\n",
       "    }\n",
       "\n",
       "    .dataframe tbody tr th {\n",
       "        vertical-align: top;\n",
       "    }\n",
       "\n",
       "    .dataframe thead th {\n",
       "        text-align: right;\n",
       "    }\n",
       "</style>\n",
       "<table border=\"1\" class=\"dataframe\">\n",
       "  <thead>\n",
       "    <tr style=\"text-align: right;\">\n",
       "      <th></th>\n",
       "      <th>id</th>\n",
       "      <th>keyword</th>\n",
       "      <th>location</th>\n",
       "      <th>text</th>\n",
       "      <th>target</th>\n",
       "    </tr>\n",
       "  </thead>\n",
       "  <tbody>\n",
       "    <tr>\n",
       "      <th>0</th>\n",
       "      <td>1</td>\n",
       "      <td>NaN</td>\n",
       "      <td>NaN</td>\n",
       "      <td>Our Deeds are the Reason of this #earthquake M...</td>\n",
       "      <td>1</td>\n",
       "    </tr>\n",
       "    <tr>\n",
       "      <th>1</th>\n",
       "      <td>4</td>\n",
       "      <td>NaN</td>\n",
       "      <td>NaN</td>\n",
       "      <td>Forest fire near La Ronge Sask. Canada</td>\n",
       "      <td>1</td>\n",
       "    </tr>\n",
       "    <tr>\n",
       "      <th>2</th>\n",
       "      <td>5</td>\n",
       "      <td>NaN</td>\n",
       "      <td>NaN</td>\n",
       "      <td>All residents asked to 'shelter in place' are ...</td>\n",
       "      <td>1</td>\n",
       "    </tr>\n",
       "    <tr>\n",
       "      <th>3</th>\n",
       "      <td>6</td>\n",
       "      <td>NaN</td>\n",
       "      <td>NaN</td>\n",
       "      <td>13,000 people receive #wildfires evacuation or...</td>\n",
       "      <td>1</td>\n",
       "    </tr>\n",
       "    <tr>\n",
       "      <th>4</th>\n",
       "      <td>7</td>\n",
       "      <td>NaN</td>\n",
       "      <td>NaN</td>\n",
       "      <td>Just got sent this photo from Ruby #Alaska as ...</td>\n",
       "      <td>1</td>\n",
       "    </tr>\n",
       "  </tbody>\n",
       "</table>\n",
       "</div>"
      ],
      "text/plain": [
       "   id keyword location                                               text  \\\n",
       "0   1     NaN      NaN  Our Deeds are the Reason of this #earthquake M...   \n",
       "1   4     NaN      NaN             Forest fire near La Ronge Sask. Canada   \n",
       "2   5     NaN      NaN  All residents asked to 'shelter in place' are ...   \n",
       "3   6     NaN      NaN  13,000 people receive #wildfires evacuation or...   \n",
       "4   7     NaN      NaN  Just got sent this photo from Ruby #Alaska as ...   \n",
       "\n",
       "   target  \n",
       "0       1  \n",
       "1       1  \n",
       "2       1  \n",
       "3       1  \n",
       "4       1  "
      ]
     },
     "execution_count": 3,
     "metadata": {},
     "output_type": "execute_result"
    }
   ],
   "source": [
    "train.head()"
   ]
  },
  {
   "cell_type": "markdown",
   "id": "d8071b3f",
   "metadata": {
    "papermill": {
     "duration": 0.004755,
     "end_time": "2022-06-28T18:09:58.574261",
     "exception": false,
     "start_time": "2022-06-28T18:09:58.569506",
     "status": "completed"
    },
    "tags": []
   },
   "source": [
    "I don't use the split function because more data means more accuracy."
   ]
  },
  {
   "cell_type": "code",
   "execution_count": 4,
   "id": "ab675985",
   "metadata": {
    "execution": {
     "iopub.execute_input": "2022-06-28T18:09:58.586029Z",
     "iopub.status.busy": "2022-06-28T18:09:58.585636Z",
     "iopub.status.idle": "2022-06-28T18:09:58.590316Z",
     "shell.execute_reply": "2022-06-28T18:09:58.589105Z"
    },
    "papermill": {
     "duration": 0.013189,
     "end_time": "2022-06-28T18:09:58.592492",
     "exception": false,
     "start_time": "2022-06-28T18:09:58.579303",
     "status": "completed"
    },
    "tags": []
   },
   "outputs": [],
   "source": [
    "#from sklearn.model_selection import train_test_split\n",
    "#X_train,X_test,Y_train,Y_test=train_test_split(X,Y,test_size=0.33,random_state=42)"
   ]
  },
  {
   "cell_type": "markdown",
   "id": "78599856",
   "metadata": {
    "papermill": {
     "duration": 0.00468,
     "end_time": "2022-06-28T18:09:58.602146",
     "exception": false,
     "start_time": "2022-06-28T18:09:58.597466",
     "status": "completed"
    },
    "tags": []
   },
   "source": [
    "Just Use TfidfVectorizer,Pipeline and SVC from SVM ."
   ]
  },
  {
   "cell_type": "code",
   "execution_count": 5,
   "id": "7a880035",
   "metadata": {
    "execution": {
     "iopub.execute_input": "2022-06-28T18:09:58.613517Z",
     "iopub.status.busy": "2022-06-28T18:09:58.613154Z",
     "iopub.status.idle": "2022-06-28T18:09:59.837477Z",
     "shell.execute_reply": "2022-06-28T18:09:59.836230Z"
    },
    "papermill": {
     "duration": 1.233223,
     "end_time": "2022-06-28T18:09:59.840224",
     "exception": false,
     "start_time": "2022-06-28T18:09:58.607001",
     "status": "completed"
    },
    "tags": []
   },
   "outputs": [],
   "source": [
    "from sklearn.feature_extraction.text import TfidfVectorizer\n",
    "from sklearn.pipeline import Pipeline\n",
    "from sklearn.svm import SVC\n",
    "\n",
    "pipe=Pipeline([('sam',TfidfVectorizer()),\n",
    "              ('rat',SVC())])"
   ]
  },
  {
   "cell_type": "markdown",
   "id": "05a04a98",
   "metadata": {
    "papermill": {
     "duration": 0.004748,
     "end_time": "2022-06-28T18:09:59.850034",
     "exception": false,
     "start_time": "2022-06-28T18:09:59.845286",
     "status": "completed"
    },
    "tags": []
   },
   "source": [
    "Train the model"
   ]
  },
  {
   "cell_type": "code",
   "execution_count": 6,
   "id": "c41bd7ff",
   "metadata": {
    "execution": {
     "iopub.execute_input": "2022-06-28T18:09:59.862418Z",
     "iopub.status.busy": "2022-06-28T18:09:59.861972Z",
     "iopub.status.idle": "2022-06-28T18:10:10.557957Z",
     "shell.execute_reply": "2022-06-28T18:10:10.556904Z"
    },
    "papermill": {
     "duration": 10.705383,
     "end_time": "2022-06-28T18:10:10.560457",
     "exception": false,
     "start_time": "2022-06-28T18:09:59.855074",
     "status": "completed"
    },
    "tags": []
   },
   "outputs": [
    {
     "data": {
      "text/plain": [
       "Pipeline(steps=[('sam', TfidfVectorizer()), ('rat', SVC())])"
      ]
     },
     "execution_count": 6,
     "metadata": {},
     "output_type": "execute_result"
    }
   ],
   "source": [
    "pipe.fit(train['text'],train['target'])"
   ]
  },
  {
   "cell_type": "markdown",
   "id": "7ecc6f5b",
   "metadata": {
    "papermill": {
     "duration": 0.004796,
     "end_time": "2022-06-28T18:10:10.570396",
     "exception": false,
     "start_time": "2022-06-28T18:10:10.565600",
     "status": "completed"
    },
    "tags": []
   },
   "source": [
    "prediction"
   ]
  },
  {
   "cell_type": "code",
   "execution_count": 7,
   "id": "e91a7eab",
   "metadata": {
    "execution": {
     "iopub.execute_input": "2022-06-28T18:10:10.582429Z",
     "iopub.status.busy": "2022-06-28T18:10:10.582060Z",
     "iopub.status.idle": "2022-06-28T18:10:14.065956Z",
     "shell.execute_reply": "2022-06-28T18:10:14.064682Z"
    },
    "papermill": {
     "duration": 3.493372,
     "end_time": "2022-06-28T18:10:14.068809",
     "exception": false,
     "start_time": "2022-06-28T18:10:10.575437",
     "status": "completed"
    },
    "tags": []
   },
   "outputs": [],
   "source": [
    "t=test['text']\n",
    "p=pipe.predict(t)"
   ]
  },
  {
   "cell_type": "markdown",
   "id": "6d9711ad",
   "metadata": {
    "papermill": {
     "duration": 0.004956,
     "end_time": "2022-06-28T18:10:14.079048",
     "exception": false,
     "start_time": "2022-06-28T18:10:14.074092",
     "status": "completed"
    },
    "tags": []
   },
   "source": [
    "preparing data frame for export."
   ]
  },
  {
   "cell_type": "code",
   "execution_count": 8,
   "id": "cb5e7f0f",
   "metadata": {
    "execution": {
     "iopub.execute_input": "2022-06-28T18:10:14.091433Z",
     "iopub.status.busy": "2022-06-28T18:10:14.091039Z",
     "iopub.status.idle": "2022-06-28T18:10:14.097085Z",
     "shell.execute_reply": "2022-06-28T18:10:14.095818Z"
    },
    "papermill": {
     "duration": 0.015043,
     "end_time": "2022-06-28T18:10:14.099329",
     "exception": false,
     "start_time": "2022-06-28T18:10:14.084286",
     "status": "completed"
    },
    "tags": []
   },
   "outputs": [],
   "source": [
    "sub=pd.DataFrame({'id':test['id'],\n",
    "                  'target':p,\n",
    "                  \n",
    "                 })"
   ]
  },
  {
   "cell_type": "markdown",
   "id": "1ebca54c",
   "metadata": {
    "papermill": {
     "duration": 0.004849,
     "end_time": "2022-06-28T18:10:14.109412",
     "exception": false,
     "start_time": "2022-06-28T18:10:14.104563",
     "status": "completed"
    },
    "tags": []
   },
   "source": [
    "then Export"
   ]
  },
  {
   "cell_type": "code",
   "execution_count": 9,
   "id": "e87c2936",
   "metadata": {
    "execution": {
     "iopub.execute_input": "2022-06-28T18:10:14.121460Z",
     "iopub.status.busy": "2022-06-28T18:10:14.121078Z",
     "iopub.status.idle": "2022-06-28T18:10:14.134261Z",
     "shell.execute_reply": "2022-06-28T18:10:14.132896Z"
    },
    "papermill": {
     "duration": 0.022733,
     "end_time": "2022-06-28T18:10:14.137264",
     "exception": false,
     "start_time": "2022-06-28T18:10:14.114531",
     "status": "completed"
    },
    "tags": []
   },
   "outputs": [],
   "source": [
    "sub.to_csv('submission.csv',index=False)"
   ]
  }
 ],
 "metadata": {
  "kernelspec": {
   "display_name": "Python 3",
   "language": "python",
   "name": "python3"
  },
  "language_info": {
   "codemirror_mode": {
    "name": "ipython",
    "version": 3
   },
   "file_extension": ".py",
   "mimetype": "text/x-python",
   "name": "python",
   "nbconvert_exporter": "python",
   "pygments_lexer": "ipython3",
   "version": "3.7.12"
  },
  "papermill": {
   "default_parameters": {},
   "duration": 26.882031,
   "end_time": "2022-06-28T18:10:14.865038",
   "environment_variables": {},
   "exception": null,
   "input_path": "__notebook__.ipynb",
   "output_path": "__notebook__.ipynb",
   "parameters": {},
   "start_time": "2022-06-28T18:09:47.983007",
   "version": "2.3.4"
  }
 },
 "nbformat": 4,
 "nbformat_minor": 5
}
